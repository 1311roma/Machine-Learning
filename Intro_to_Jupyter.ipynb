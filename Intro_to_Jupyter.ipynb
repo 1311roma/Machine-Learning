{
 "cells": [
  {
   "cell_type": "markdown",
   "id": "953a542c",
   "metadata": {},
   "source": [
    "## Displaying Name"
   ]
  },
  {
   "cell_type": "code",
   "execution_count": 1,
   "id": "88533562",
   "metadata": {},
   "outputs": [
    {
     "name": "stdout",
     "output_type": "stream",
     "text": [
      "Roma Sharma\n"
     ]
    }
   ],
   "source": [
    "print(\"Roma Sharma\")"
   ]
  },
  {
   "cell_type": "markdown",
   "id": "1b1c2855",
   "metadata": {},
   "source": [
    "## Displaying Calculations\n"
   ]
  },
  {
   "cell_type": "code",
   "execution_count": 2,
   "id": "564c3597",
   "metadata": {
    "scrolled": true
   },
   "outputs": [
    {
     "name": "stdout",
     "output_type": "stream",
     "text": [
      "4\n"
     ]
    }
   ],
   "source": [
    "print(2+2)"
   ]
  },
  {
   "cell_type": "code",
   "execution_count": 3,
   "id": "cb3b8a4f",
   "metadata": {},
   "outputs": [
    {
     "name": "stdout",
     "output_type": "stream",
     "text": [
      "36\n"
     ]
    }
   ],
   "source": [
    "print(2*2*9)"
   ]
  }
 ],
 "metadata": {
  "kernelspec": {
   "display_name": "Python 3 (ipykernel)",
   "language": "python",
   "name": "python3"
  },
  "language_info": {
   "codemirror_mode": {
    "name": "ipython",
    "version": 3
   },
   "file_extension": ".py",
   "mimetype": "text/x-python",
   "name": "python",
   "nbconvert_exporter": "python",
   "pygments_lexer": "ipython3",
   "version": "3.11.5"
  }
 },
 "nbformat": 4,
 "nbformat_minor": 5
}
